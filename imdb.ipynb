{
 "cells": [
  {
   "cell_type": "code",
   "execution_count": null,
   "metadata": {
    "_cell_guid": "b1076dfc-b9ad-4769-8c92-a6c4dae69d19",
    "_uuid": "8f2839f25d086af736a60e9eeb907d3b93b6e0e5",
    "execution": {
     "iopub.execute_input": "2022-11-25T12:19:54.850957Z",
     "iopub.status.busy": "2022-11-25T12:19:54.850523Z",
     "iopub.status.idle": "2022-11-25T12:19:54.859466Z",
     "shell.execute_reply": "2022-11-25T12:19:54.858491Z",
     "shell.execute_reply.started": "2022-11-25T12:19:54.850922Z"
    }
   },
   "outputs": [],
   "source": [
    "# This Python 3 environment comes with many helpful analytics libraries installed\n",
    "# It is defined by the kaggle/python Docker image: https://github.com/kaggle/docker-python\n",
    "# For example, here's several helpful packages to load\n",
    "\n",
    "import numpy as np # linear algebra\n",
    "import pandas as pd # data processing, CSV file I/O (e.g. pd.read_csv)\n",
    "\n",
    "# Input data files are available in the read-only \"../input/\" directory\n",
    "# For example, running this (by clicking run or pressing Shift+Enter) will list all files under the input directory\n",
    "\n",
    "import os\n",
    "for dirname, _, filenames in os.walk('/kaggle/input'):\n",
    "    for filename in filenames:\n",
    "        print(os.path.join(dirname, filename))\n",
    "\n",
    "# You can write up to 20GB to the current directory (/kaggle/working/) that gets preserved as output when you create a version using \"Save & Run All\" \n",
    "# You can also write temporary files to /kaggle/temp/, but they won't be saved outside of the current session"
   ]
  },
  {
   "cell_type": "code",
   "execution_count": null,
   "metadata": {
    "execution": {
     "iopub.execute_input": "2022-11-25T12:19:54.861522Z",
     "iopub.status.busy": "2022-11-25T12:19:54.861206Z",
     "iopub.status.idle": "2022-11-25T12:19:54.891012Z",
     "shell.execute_reply": "2022-11-25T12:19:54.889548Z",
     "shell.execute_reply.started": "2022-11-25T12:19:54.861495Z"
    }
   },
   "outputs": [],
   "source": [
    "\n",
    "df = pd.read_csv(\"/kaggle/input/imdb-top-250-movies/imdb_top250_movies.csv\")"
   ]
  },
  {
   "cell_type": "code",
   "execution_count": null,
   "metadata": {
    "execution": {
     "iopub.execute_input": "2022-11-25T12:19:54.892510Z",
     "iopub.status.busy": "2022-11-25T12:19:54.892215Z",
     "iopub.status.idle": "2022-11-25T12:19:54.938194Z",
     "shell.execute_reply": "2022-11-25T12:19:54.937120Z",
     "shell.execute_reply.started": "2022-11-25T12:19:54.892482Z"
    }
   },
   "outputs": [],
   "source": [
    "df"
   ]
  },
  {
   "cell_type": "code",
   "execution_count": null,
   "metadata": {
    "execution": {
     "iopub.execute_input": "2022-11-25T12:19:54.939909Z",
     "iopub.status.busy": "2022-11-25T12:19:54.939444Z",
     "iopub.status.idle": "2022-11-25T12:19:54.970020Z",
     "shell.execute_reply": "2022-11-25T12:19:54.968365Z",
     "shell.execute_reply.started": "2022-11-25T12:19:54.939879Z"
    }
   },
   "outputs": [],
   "source": [
    "df.isnull()"
   ]
  },
  {
   "cell_type": "code",
   "execution_count": null,
   "metadata": {
    "execution": {
     "iopub.execute_input": "2022-11-25T12:19:54.974055Z",
     "iopub.status.busy": "2022-11-25T12:19:54.973504Z",
     "iopub.status.idle": "2022-11-25T12:19:54.984492Z",
     "shell.execute_reply": "2022-11-25T12:19:54.983058Z",
     "shell.execute_reply.started": "2022-11-25T12:19:54.974023Z"
    }
   },
   "outputs": [],
   "source": [
    "df.isnull().sum()"
   ]
  },
  {
   "cell_type": "code",
   "execution_count": null,
   "metadata": {
    "execution": {
     "iopub.execute_input": "2022-11-25T12:20:02.787580Z",
     "iopub.status.busy": "2022-11-25T12:20:02.787194Z",
     "iopub.status.idle": "2022-11-25T12:20:02.812736Z",
     "shell.execute_reply": "2022-11-25T12:20:02.811692Z",
     "shell.execute_reply.started": "2022-11-25T12:20:02.787553Z"
    }
   },
   "outputs": [],
   "source": [
    "df.head()"
   ]
  },
  {
   "cell_type": "code",
   "execution_count": null,
   "metadata": {
    "execution": {
     "iopub.execute_input": "2022-11-25T12:20:20.616104Z",
     "iopub.status.busy": "2022-11-25T12:20:20.615737Z",
     "iopub.status.idle": "2022-11-25T12:20:20.643859Z",
     "shell.execute_reply": "2022-11-25T12:20:20.642923Z",
     "shell.execute_reply.started": "2022-11-25T12:20:20.616074Z"
    }
   },
   "outputs": [],
   "source": [
    "df.head(10)"
   ]
  },
  {
   "cell_type": "code",
   "execution_count": null,
   "metadata": {
    "execution": {
     "iopub.execute_input": "2022-11-25T12:26:36.567035Z",
     "iopub.status.busy": "2022-11-25T12:26:36.566618Z",
     "iopub.status.idle": "2022-11-25T12:26:36.576574Z",
     "shell.execute_reply": "2022-11-25T12:26:36.575185Z",
     "shell.execute_reply.started": "2022-11-25T12:26:36.567005Z"
    }
   },
   "outputs": [],
   "source": [
    "df.head()[\"Title\"]"
   ]
  },
  {
   "cell_type": "code",
   "execution_count": null,
   "metadata": {
    "execution": {
     "iopub.execute_input": "2022-11-25T12:27:32.076438Z",
     "iopub.status.busy": "2022-11-25T12:27:32.076037Z",
     "iopub.status.idle": "2022-11-25T12:27:32.083618Z",
     "shell.execute_reply": "2022-11-25T12:27:32.082428Z",
     "shell.execute_reply.started": "2022-11-25T12:27:32.076405Z"
    }
   },
   "outputs": [],
   "source": [
    "df.head()[\"Title\"].values"
   ]
  },
  {
   "cell_type": "markdown",
   "metadata": {},
   "source": [
    "1.TOP 5 MOVIES : "
   ]
  },
  {
   "cell_type": "code",
   "execution_count": null,
   "metadata": {
    "execution": {
     "iopub.execute_input": "2022-11-25T12:30:05.141143Z",
     "iopub.status.busy": "2022-11-25T12:30:05.140804Z",
     "iopub.status.idle": "2022-11-25T12:30:05.148695Z",
     "shell.execute_reply": "2022-11-25T12:30:05.147300Z",
     "shell.execute_reply.started": "2022-11-25T12:30:05.141116Z"
    }
   },
   "outputs": [],
   "source": [
    "for Title in df.head()[\"Title\"].values:\n",
    "    print(Title)"
   ]
  },
  {
   "cell_type": "markdown",
   "metadata": {},
   "source": [
    "2.TOP 5 MOST VOTED MOVIES:"
   ]
  },
  {
   "cell_type": "code",
   "execution_count": null,
   "metadata": {
    "execution": {
     "iopub.execute_input": "2022-11-25T12:59:23.465900Z",
     "iopub.status.busy": "2022-11-25T12:59:23.465556Z",
     "iopub.status.idle": "2022-11-25T12:59:23.474160Z",
     "shell.execute_reply": "2022-11-25T12:59:23.472645Z",
     "shell.execute_reply.started": "2022-11-25T12:59:23.465871Z"
    }
   },
   "outputs": [],
   "source": [
    "for name in df.sort_values(by=\"imdbVotes\").head()[\"Title\"].values:\n",
    "    print(name)"
   ]
  },
  {
   "cell_type": "markdown",
   "metadata": {},
   "source": [
    "3.TOP 5 OLDEST MOVIES:"
   ]
  },
  {
   "cell_type": "code",
   "execution_count": null,
   "metadata": {
    "execution": {
     "iopub.execute_input": "2022-11-25T13:04:41.925943Z",
     "iopub.status.busy": "2022-11-25T13:04:41.925421Z",
     "iopub.status.idle": "2022-11-25T13:04:41.939127Z",
     "shell.execute_reply": "2022-11-25T13:04:41.936850Z",
     "shell.execute_reply.started": "2022-11-25T13:04:41.925903Z"
    }
   },
   "outputs": [],
   "source": [
    "for name in df.sort_values(by=\"Year\").head()[\"Title\"].values:\n",
    "    print(name)\n",
    "    "
   ]
  },
  {
   "cell_type": "code",
   "execution_count": null,
   "metadata": {
    "execution": {
     "iopub.execute_input": "2022-11-25T13:28:05.055304Z",
     "iopub.status.busy": "2022-11-25T13:28:05.054932Z",
     "iopub.status.idle": "2022-11-25T13:28:05.087047Z",
     "shell.execute_reply": "2022-11-25T13:28:05.085592Z",
     "shell.execute_reply.started": "2022-11-25T13:28:05.055274Z"
    }
   },
   "outputs": [],
   "source": [
    "df"
   ]
  },
  {
   "cell_type": "markdown",
   "metadata": {},
   "source": []
  },
  {
   "cell_type": "code",
   "execution_count": null,
   "metadata": {
    "execution": {
     "iopub.execute_input": "2022-11-25T13:28:45.534473Z",
     "iopub.status.busy": "2022-11-25T13:28:45.534097Z",
     "iopub.status.idle": "2022-11-25T13:28:45.541008Z",
     "shell.execute_reply": "2022-11-25T13:28:45.539917Z",
     "shell.execute_reply.started": "2022-11-25T13:28:45.534443Z"
    }
   },
   "outputs": [],
   "source": [
    "for genre in df[\"Genre\"]:\n",
    "    print(genre)"
   ]
  },
  {
   "cell_type": "markdown",
   "metadata": {},
   "source": [
    "4.NO OF MOVIES WITH ONLY DRAMA AS ITS GENRE:"
   ]
  },
  {
   "cell_type": "code",
   "execution_count": null,
   "metadata": {
    "execution": {
     "iopub.execute_input": "2022-11-25T13:34:58.070975Z",
     "iopub.status.busy": "2022-11-25T13:34:58.070572Z",
     "iopub.status.idle": "2022-11-25T13:34:58.077826Z",
     "shell.execute_reply": "2022-11-25T13:34:58.076344Z",
     "shell.execute_reply.started": "2022-11-25T13:34:58.070944Z"
    }
   },
   "outputs": [],
   "source": [
    "c=0\n",
    "for genre in df[\"Genre\"]:\n",
    "    if genre ==\"Drama\":\n",
    "        c=c+1\n",
    "print(c)   \n",
    "        "
   ]
  },
  {
   "cell_type": "markdown",
   "metadata": {},
   "source": [
    "5.UNIQUE COMBINATIONS WITH GENRE:\n"
   ]
  },
  {
   "cell_type": "code",
   "execution_count": null,
   "metadata": {
    "execution": {
     "iopub.execute_input": "2022-11-25T13:40:38.400354Z",
     "iopub.status.busy": "2022-11-25T13:40:38.399968Z",
     "iopub.status.idle": "2022-11-25T13:40:38.409649Z",
     "shell.execute_reply": "2022-11-25T13:40:38.408084Z",
     "shell.execute_reply.started": "2022-11-25T13:40:38.400324Z"
    }
   },
   "outputs": [],
   "source": [
    "df[\"Genre\"].unique()"
   ]
  },
  {
   "cell_type": "markdown",
   "metadata": {},
   "source": []
  },
  {
   "cell_type": "code",
   "execution_count": null,
   "metadata": {
    "execution": {
     "iopub.execute_input": "2022-11-25T13:57:50.360189Z",
     "iopub.status.busy": "2022-11-25T13:57:50.359827Z",
     "iopub.status.idle": "2022-11-25T13:57:50.367337Z",
     "shell.execute_reply": "2022-11-25T13:57:50.365384Z",
     "shell.execute_reply.started": "2022-11-25T13:57:50.360161Z"
    }
   },
   "outputs": [],
   "source": [
    "# no of movies with drama genre combination\n",
    "c=0\n",
    "for genre in df[\"Genre\"]:\n",
    "    if \"Drama\" in  genre:\n",
    "        c=c+1\n",
    "print(c)        "
   ]
  },
  {
   "cell_type": "code",
   "execution_count": null,
   "metadata": {
    "execution": {
     "iopub.execute_input": "2022-11-25T13:59:28.321593Z",
     "iopub.status.busy": "2022-11-25T13:59:28.321194Z",
     "iopub.status.idle": "2022-11-25T13:59:28.329872Z",
     "shell.execute_reply": "2022-11-25T13:59:28.328283Z",
     "shell.execute_reply.started": "2022-11-25T13:59:28.321560Z"
    }
   },
   "outputs": [],
   "source": [
    "\"Drama\" in \"Crime,Drama\""
   ]
  },
  {
   "cell_type": "code",
   "execution_count": null,
   "metadata": {
    "execution": {
     "iopub.execute_input": "2022-11-25T14:03:01.970074Z",
     "iopub.status.busy": "2022-11-25T14:03:01.969653Z",
     "iopub.status.idle": "2022-11-25T14:03:01.978476Z",
     "shell.execute_reply": "2022-11-25T14:03:01.977020Z",
     "shell.execute_reply.started": "2022-11-25T14:03:01.970044Z"
    }
   },
   "outputs": [],
   "source": [
    "genres=[]\n",
    "for i in df[\"Genre\"]:\n",
    "    genres=genres+i.split(\",\")\n",
    "    print(i)    \n",
    "    "
   ]
  },
  {
   "cell_type": "code",
   "execution_count": null,
   "metadata": {},
   "outputs": [],
   "source": []
  }
 ],
 "metadata": {
  "kernelspec": {
   "display_name": "Python 3 (ipykernel)",
   "language": "python",
   "name": "python3"
  },
  "language_info": {
   "codemirror_mode": {
    "name": "ipython",
    "version": 3
   },
   "file_extension": ".py",
   "mimetype": "text/x-python",
   "name": "python",
   "nbconvert_exporter": "python",
   "pygments_lexer": "ipython3",
   "version": "3.9.13"
  }
 },
 "nbformat": 4,
 "nbformat_minor": 4
}
